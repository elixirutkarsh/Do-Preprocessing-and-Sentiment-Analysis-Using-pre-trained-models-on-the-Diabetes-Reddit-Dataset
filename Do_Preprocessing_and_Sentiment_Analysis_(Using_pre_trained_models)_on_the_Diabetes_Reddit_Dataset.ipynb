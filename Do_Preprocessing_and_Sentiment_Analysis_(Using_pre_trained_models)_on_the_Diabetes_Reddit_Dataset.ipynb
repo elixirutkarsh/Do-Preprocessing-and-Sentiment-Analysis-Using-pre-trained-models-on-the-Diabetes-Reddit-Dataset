{
  "nbformat": 4,
  "nbformat_minor": 0,
  "metadata": {
    "colab": {
      "provenance": [],
      "authorship_tag": "ABX9TyPq8Hc92jLXsGS2gXV7m42n",
      "include_colab_link": true
    },
    "kernelspec": {
      "name": "python3",
      "display_name": "Python 3"
    },
    "language_info": {
      "name": "python"
    }
  },
  "cells": [
    {
      "cell_type": "markdown",
      "metadata": {
        "id": "view-in-github",
        "colab_type": "text"
      },
      "source": [
        "<a href=\"https://colab.research.google.com/github/elixirutkarsh/Do-Preprocessing-and-Sentiment-Analysis-Using-pre-trained-models-on-the-Diabetes-Reddit-Dataset/blob/main/Do_Preprocessing_and_Sentiment_Analysis_(Using_pre_trained_models)_on_the_Diabetes_Reddit_Dataset.ipynb\" target=\"_parent\"><img src=\"https://colab.research.google.com/assets/colab-badge.svg\" alt=\"Open In Colab\"/></a>"
      ]
    },
    {
      "cell_type": "code",
      "execution_count": null,
      "metadata": {
        "id": "ioXqTy7pqdeW"
      },
      "outputs": [],
      "source": [
        "import pandas as pd\n",
        "import nltk\n",
        "from nltk.corpus import stopwords\n",
        "from nltk.tokenize import word_tokenize\n",
        "from nltk.sentiment import SentimentIntensityAnalyzer\n",
        "from transformers import pipeline\n",
        "\n",
        "# Step 1: Load the Diabetes Reddit Dataset\n",
        "df = pd.read_csv(\"diabetes_reddit_dataset.csv\")  # Replace with your dataset path\n",
        "comments = df[\"comment\"].values\n",
        "\n",
        "# Step 2: Preprocessing\n",
        "nltk.download('stopwords')\n",
        "nltk.download('punkt')\n",
        "stop_words = set(stopwords.words(\"english\"))\n",
        "\n",
        "processed_comments = []\n",
        "for comment in comments:\n",
        "    # Tokenization\n",
        "    tokens = word_tokenize(comment)\n",
        "\n",
        "    # Removing stopwords\n",
        "    filtered_tokens = [token for token in tokens if token.lower() not in stop_words]\n",
        "\n",
        "    # Joining tokens back into a sentence\n",
        "    processed_comment = \" \".join(filtered_tokens)\n",
        "\n",
        "    processed_comments.append(processed_comment)\n",
        "\n",
        "# Step 3: Sentiment Analysis using pre-trained models\n",
        "# Sentiment Analysis with VADER\n",
        "nltk.download('vader_lexicon')\n",
        "sia = SentimentIntensityAnalyzer()\n",
        "\n",
        "sentiments_vader = []\n",
        "for comment in processed_comments:\n",
        "    sentiment_scores = sia.polarity_scores(comment)\n",
        "    sentiment = \"positive\" if sentiment_scores['compound'] >= 0 else \"negative\"\n",
        "    sentiments_vader.append(sentiment)\n",
        "\n",
        "# Sentiment Analysis with Transformers\n",
        "classifier = pipeline(\"sentiment-analysis\")\n",
        "\n",
        "sentiments_transformers = []\n",
        "for comment in processed_comments:\n",
        "    result = classifier(comment)[0]\n",
        "    sentiment = result['label']\n",
        "    sentiments_transformers.append(sentiment)\n",
        "\n",
        "# Step 4: Combine results with the original dataset\n",
        "df[\"processed_comment\"] = processed_comments\n",
        "df[\"sentiment_vader\"] = sentiments_vader\n",
        "df[\"sentiment_transformers\"] = sentiments_transformers\n",
        "\n",
        "# Step 5: Save the updated dataset\n",
        "df.to_csv(\"diabetes_reddit_dataset_sentiment.csv\", index=False)  # Replace with your desired output filename\n"
      ]
    }
  ]
}